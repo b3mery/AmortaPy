{
 "cells": [
  {
   "cell_type": "code",
   "execution_count": 1,
   "metadata": {},
   "outputs": [],
   "source": [
    "import AmortaPy as ap"
   ]
  },
  {
   "cell_type": "code",
   "execution_count": 2,
   "metadata": {},
   "outputs": [],
   "source": [
    "input_interest_rate = 0.0394\n",
    "input_loan = 515000\n",
    "input_years = 30\n",
    "input_repayment_method = 'weekly'\n",
    "loan = ap.generate_amortization_schedule(input_interest_rate, input_loan, input_years, input_repayment_method)"
   ]
  },
  {
   "cell_type": "code",
   "execution_count": 7,
   "metadata": {},
   "outputs": [
    {
     "data": {
      "text/html": [
       "\n",
       "        <style> .amort-summary td:hover {\n",
       "    background-color: #428cd1;\n",
       "  }\n",
       ".amort-summary th {\n",
       "  font-weight: 600;\n",
       "  font-family: Arial, Helvetica, sans-serif;\n",
       "  color: azure;\n",
       "  word-wrap: break-word;\n",
       "} </style>\n",
       "        <h1>Amortization Schedule</h1>\n",
       "        <table class='amort-summary'>\n",
       "            <tr>\n",
       "                <th>Principal Borrowed</th>\n",
       "                <th>Years</th>\n",
       "                <th>Annual Interest Rate</th>\n",
       "                <th>Forecasted Total Interest</th>\n",
       "            </tr>\n",
       "            <tr>\n",
       "                <td>$515,000.00</td>\n",
       "                <td>30</td>\n",
       "                <td>3.94%</td>\n",
       "                <td>$363,147.47</td>\n",
       "            </tr>\n",
       "            <tr>\n",
       "                <th>Repayment Frequency</th>\n",
       "                <th>Minimum Repayments Per Peirod</th>\n",
       "                <th>Effective Annual Interest Rate (EAR)</th>\n",
       "                <th>Total Interest / Total Principal</th>\n",
       "            </tr>\n",
       "            <tr>\n",
       "                <td>Weekly - 1,560 Periods</td> \n",
       "                <td>$562.92</td>\n",
       "                <td>4.02%</td>              \n",
       "                <td>70.51%</td>\n",
       "            </tr>\n",
       "        </table>\n",
       "        "
      ],
      "text/plain": [
       "\n",
       "        --------------------------------------------------------------------\n",
       "        Amortization Schedule\n",
       "        --------------------------------------------------------------------\n",
       "        Principal Borrowed:                     $515,000.00\n",
       "        Years:                                  30\n",
       "        Annual Interest Rate:                   3.94%\n",
       "        Forecasted Total Interest:              $363,147.47\n",
       "        Repayment Frequency:                    Weekly - 1,560 Periods \n",
       "        Minimum Repayments Per Peirod:          $562.92\n",
       "        Effective Annual Interest Rate (EAR)    4.02%         \n",
       "        Total Interest / Total Principal:       70.51%\n",
       "        --------------------------------------------------------------------\n",
       "        "
      ]
     },
     "execution_count": 7,
     "metadata": {},
     "output_type": "execute_result"
    }
   ],
   "source": [
    "loan"
   ]
  },
  {
   "cell_type": "code",
   "execution_count": 4,
   "metadata": {},
   "outputs": [
    {
     "data": {
      "text/html": [
       "<div>\n",
       "<style scoped>\n",
       "    .dataframe tbody tr th:only-of-type {\n",
       "        vertical-align: middle;\n",
       "    }\n",
       "\n",
       "    .dataframe tbody tr th {\n",
       "        vertical-align: top;\n",
       "    }\n",
       "\n",
       "    .dataframe thead th {\n",
       "        text-align: right;\n",
       "    }\n",
       "</style>\n",
       "<table border=\"1\" class=\"dataframe\">\n",
       "  <thead>\n",
       "    <tr style=\"text-align: right;\">\n",
       "      <th></th>\n",
       "      <th>period</th>\n",
       "      <th>opening_balance</th>\n",
       "      <th>interest</th>\n",
       "      <th>principal</th>\n",
       "      <th>period_payment</th>\n",
       "      <th>closing_balance</th>\n",
       "      <th>cumulative_interest</th>\n",
       "    </tr>\n",
       "  </thead>\n",
       "  <tbody>\n",
       "    <tr>\n",
       "      <th>0</th>\n",
       "      <td>1</td>\n",
       "      <td>515000.000000</td>\n",
       "      <td>390.211538</td>\n",
       "      <td>172.703507</td>\n",
       "      <td>562.915045</td>\n",
       "      <td>514827.296493</td>\n",
       "      <td>363147.470471</td>\n",
       "    </tr>\n",
       "    <tr>\n",
       "      <th>1</th>\n",
       "      <td>2</td>\n",
       "      <td>514827.296493</td>\n",
       "      <td>390.080682</td>\n",
       "      <td>172.834363</td>\n",
       "      <td>562.915045</td>\n",
       "      <td>514654.462130</td>\n",
       "      <td>362757.258932</td>\n",
       "    </tr>\n",
       "    <tr>\n",
       "      <th>2</th>\n",
       "      <td>3</td>\n",
       "      <td>514654.462130</td>\n",
       "      <td>389.949727</td>\n",
       "      <td>172.965318</td>\n",
       "      <td>562.915045</td>\n",
       "      <td>514481.496812</td>\n",
       "      <td>362367.178250</td>\n",
       "    </tr>\n",
       "    <tr>\n",
       "      <th>3</th>\n",
       "      <td>4</td>\n",
       "      <td>514481.496812</td>\n",
       "      <td>389.818673</td>\n",
       "      <td>173.096373</td>\n",
       "      <td>562.915045</td>\n",
       "      <td>514308.400440</td>\n",
       "      <td>361977.228523</td>\n",
       "    </tr>\n",
       "    <tr>\n",
       "      <th>4</th>\n",
       "      <td>5</td>\n",
       "      <td>514308.400440</td>\n",
       "      <td>389.687519</td>\n",
       "      <td>173.227526</td>\n",
       "      <td>562.915045</td>\n",
       "      <td>514135.172913</td>\n",
       "      <td>361587.409850</td>\n",
       "    </tr>\n",
       "  </tbody>\n",
       "</table>\n",
       "</div>"
      ],
      "text/plain": [
       "   period  opening_balance    interest   principal  period_payment  \\\n",
       "0       1    515000.000000  390.211538  172.703507      562.915045   \n",
       "1       2    514827.296493  390.080682  172.834363      562.915045   \n",
       "2       3    514654.462130  389.949727  172.965318      562.915045   \n",
       "3       4    514481.496812  389.818673  173.096373      562.915045   \n",
       "4       5    514308.400440  389.687519  173.227526      562.915045   \n",
       "\n",
       "   closing_balance  cumulative_interest  \n",
       "0    514827.296493        363147.470471  \n",
       "1    514654.462130        362757.258932  \n",
       "2    514481.496812        362367.178250  \n",
       "3    514308.400440        361977.228523  \n",
       "4    514135.172913        361587.409850  "
      ]
     },
     "execution_count": 4,
     "metadata": {},
     "output_type": "execute_result"
    }
   ],
   "source": [
    "loan.amortization_schedule.head()"
   ]
  },
  {
   "cell_type": "markdown",
   "metadata": {},
   "source": [
    "```python\n",
    "loan.period_balances_chart # Requires plotly-express\n",
    "```\n",
    "<img src=\"Period_Balances_Over_Time.png\">"
   ]
  },
  {
   "cell_type": "markdown",
   "metadata": {},
   "source": [
    "```python\n",
    "loan.period_repayments_chart  # Requires plotly-express\n",
    "```\n",
    "<img src=\"./Period_Payments_Over_Time.png\">"
   ]
  }
 ],
 "metadata": {
  "kernelspec": {
   "display_name": "Python 3.9.13 64-bit (windows store)",
   "language": "python",
   "name": "python3"
  },
  "language_info": {
   "codemirror_mode": {
    "name": "ipython",
    "version": 3
   },
   "file_extension": ".py",
   "mimetype": "text/x-python",
   "name": "python",
   "nbconvert_exporter": "python",
   "pygments_lexer": "ipython3",
   "version": "3.9.13"
  },
  "orig_nbformat": 4,
  "vscode": {
   "interpreter": {
    "hash": "349376930e4e27227c017cf1ede658c6181541309628d2352298bcf59e900cd5"
   }
  }
 },
 "nbformat": 4,
 "nbformat_minor": 2
}
