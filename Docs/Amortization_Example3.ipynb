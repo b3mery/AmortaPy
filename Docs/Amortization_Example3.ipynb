{
 "cells": [
  {
   "cell_type": "code",
   "execution_count": 1,
   "metadata": {},
   "outputs": [],
   "source": [
    "import AmortaPy as ap"
   ]
  },
  {
   "cell_type": "code",
   "execution_count": 2,
   "metadata": {},
   "outputs": [],
   "source": [
    "input_interest_rate = 0.0394\n",
    "input_loan = 515000\n",
    "input_years = 30\n",
    "input_repayment_method = 'weekly'\n",
    "loan = ap.generate_amortization_schedule(input_interest_rate, input_loan, input_years, input_repayment_method)"
   ]
  },
  {
   "cell_type": "code",
   "execution_count": 3,
   "metadata": {},
   "outputs": [
    {
     "data": {
      "text/html": [
       "\n",
       "        <style> .amort-summary td:hover {\n",
       "    background-color: #428cd1;\n",
       "  }\n",
       ".amort-summary th {\n",
       "  font-weight: 600;\n",
       "  font-family: Arial, Helvetica, sans-serif;\n",
       "  color: azure;\n",
       "} </style>\n",
       "        <h1>Amortization Schedule</h1>\n",
       "        <table class='amort-summary'>\n",
       "            <tr>\n",
       "                <th>Principal Borrowed</th>\n",
       "                <th>Years</th>\n",
       "                <th>Annual Interest Rate</th>\n",
       "                <th>Forecasted Total Interest</th>\n",
       "            </tr>\n",
       "            <tr>\n",
       "                <td>$515,000.00</td>\n",
       "                <td>30</td>\n",
       "                <td>3.94%</td>\n",
       "                <td>$363,147.47</td>\n",
       "            </tr>\n",
       "            <tr>\n",
       "                <th>Repayment Frequency</th>\n",
       "                <th>Minimum Repayments Per Peirod</th>\n",
       "                <th>Effective Annual Interest Rate (EAR)</th>\n",
       "                <th>Total Interest / Total Principal</th>\n",
       "            </tr>\n",
       "            <tr>\n",
       "                <td>Weekly - 1,560 Periods</td> \n",
       "                <td>$562.92</td>\n",
       "                <td>4.02%</td>              \n",
       "                <td>70.51%</td>\n",
       "            </tr>\n",
       "            \n",
       "        </table>\n",
       "        "
      ],
      "text/plain": [
       "\n",
       "        --------------------------------------------------------------------\n",
       "        Amortization Schedule\n",
       "        --------------------------------------------------------------------\n",
       "        Principal Borrowed:                     $515,000.00\n",
       "        Years:                                  30\n",
       "        Annual Interest Rate:                   3.94%\n",
       "        Forecasted Total Interest:              $363,147.47\n",
       "        Repayment Frequency:                    Weekly - 1,560 Periods \n",
       "        Minimum Repayments Per Peirod:          $562.92\n",
       "        Effective Annual Interest Rate (EAR)    4.02%         \n",
       "        Total Interest / Total Principal:       70.51%\n",
       "        \n",
       "        --------------------------------------------------------------------\n",
       "        "
      ]
     },
     "execution_count": 3,
     "metadata": {},
     "output_type": "execute_result"
    }
   ],
   "source": [
    "loan"
   ]
  },
  {
   "cell_type": "code",
   "execution_count": 4,
   "metadata": {},
   "outputs": [],
   "source": [
    "loan2 = loan.set_interest_only(0.0414, 1, inplace=False)"
   ]
  },
  {
   "cell_type": "code",
   "execution_count": 5,
   "metadata": {},
   "outputs": [
    {
     "data": {
      "text/html": [
       "\n",
       "        <style> .amort-summary td:hover {\n",
       "    background-color: #428cd1;\n",
       "  }\n",
       ".amort-summary th {\n",
       "  font-weight: 600;\n",
       "  font-family: Arial, Helvetica, sans-serif;\n",
       "  color: azure;\n",
       "} </style>\n",
       "        <h1>Amortization Schedule</h1>\n",
       "        <table class='amort-summary'>\n",
       "            <tr>\n",
       "                <th>Principal Borrowed</th>\n",
       "                <th>Years</th>\n",
       "                <th>Annual Interest Rate</th>\n",
       "                <th>Forecasted Total Interest</th>\n",
       "            </tr>\n",
       "            <tr>\n",
       "                <td>$515,000.00</td>\n",
       "                <td>30</td>\n",
       "                <td>3.94%</td>\n",
       "                <td>$370,562.45</td>\n",
       "            </tr>\n",
       "            <tr>\n",
       "                <th>Repayment Frequency</th>\n",
       "                <th>Minimum Repayments Per Peirod</th>\n",
       "                <th>Effective Annual Interest Rate (EAR)</th>\n",
       "                <th>Total Interest / Total Principal</th>\n",
       "            </tr>\n",
       "            <tr>\n",
       "                <td>Weekly - 1,560 Periods</td> \n",
       "                <td>$573.10</td>\n",
       "                <td>4.02%</td>              \n",
       "                <td>71.95%</td>\n",
       "            </tr>\n",
       "            \n",
       "            <tr>\n",
       "                <th>Interest Repayments Per Peirod</th>\n",
       "                <th>Interest Only Annual Interest Rate</th>\n",
       "                <th>Forecasted Total Interest Only</th>\n",
       "                <th>Total Interest Only / Total Interest</th>\n",
       "            </tr>\n",
       "            <tr>\n",
       "                <td>$410.02</td>\n",
       "                <td>4.14%</td>              \n",
       "                <td>$21,321.00</td>\n",
       "                <td>5.75%</td>\n",
       "            </tr>\n",
       "        \n",
       "        </table>\n",
       "        "
      ],
      "text/plain": [
       "\n",
       "        --------------------------------------------------------------------\n",
       "        Amortization Schedule\n",
       "        --------------------------------------------------------------------\n",
       "        Principal Borrowed:                     $515,000.00\n",
       "        Years:                                  30\n",
       "        Annual Interest Rate:                   3.94%\n",
       "        Forecasted Total Interest:              $370,562.45\n",
       "        Repayment Frequency:                    Weekly - 1,560 Periods \n",
       "        Minimum Repayments Per Peirod:          $573.10\n",
       "        Effective Annual Interest Rate (EAR)    4.02%         \n",
       "        Total Interest / Total Principal:       71.95%\n",
       "        ----\n",
       "        Interest Only Repayments Per Peirod:    $410.02\n",
       "        Interest Only Annual Interest Rate:     4.14%   \n",
       "        Forecasted Total Interest Only:         $21,321.00\n",
       "        Total Interest Only / Total Interest:   5.75%\n",
       "        \n",
       "        --------------------------------------------------------------------\n",
       "        "
      ]
     },
     "execution_count": 5,
     "metadata": {},
     "output_type": "execute_result"
    }
   ],
   "source": [
    "loan2"
   ]
  },
  {
   "cell_type": "code",
   "execution_count": 6,
   "metadata": {},
   "outputs": [],
   "source": [
    "input_interest_rate = 0.0394\n",
    "input_loan = 515000\n",
    "input_years = 30\n",
    "input_repayment_method = 'weekly'\n",
    "interest_only_rate = 0.0414\n",
    "interest_only_years = 2\n",
    "loan3 = ap.generate_amortization_schedule(input_interest_rate, input_loan, input_years, input_repayment_method, interest_only_rate, interest_only_years)"
   ]
  },
  {
   "cell_type": "code",
   "execution_count": 7,
   "metadata": {},
   "outputs": [
    {
     "data": {
      "text/html": [
       "\n",
       "        <style> .amort-summary td:hover {\n",
       "    background-color: #428cd1;\n",
       "  }\n",
       ".amort-summary th {\n",
       "  font-weight: 600;\n",
       "  font-family: Arial, Helvetica, sans-serif;\n",
       "  color: azure;\n",
       "} </style>\n",
       "        <h1>Amortization Schedule</h1>\n",
       "        <table class='amort-summary'>\n",
       "            <tr>\n",
       "                <th>Principal Borrowed</th>\n",
       "                <th>Years</th>\n",
       "                <th>Annual Interest Rate</th>\n",
       "                <th>Forecasted Total Interest</th>\n",
       "            </tr>\n",
       "            <tr>\n",
       "                <td>$515,000.00</td>\n",
       "                <td>30</td>\n",
       "                <td>3.94%</td>\n",
       "                <td>$378,094.51</td>\n",
       "            </tr>\n",
       "            <tr>\n",
       "                <th>Repayment Frequency</th>\n",
       "                <th>Minimum Repayments Per Peirod</th>\n",
       "                <th>Effective Annual Interest Rate (EAR)</th>\n",
       "                <th>Total Interest / Total Principal</th>\n",
       "            </tr>\n",
       "            <tr>\n",
       "                <td>Weekly - 1,560 Periods</td> \n",
       "                <td>$584.10</td>\n",
       "                <td>4.02%</td>              \n",
       "                <td>73.42%</td>\n",
       "            </tr>\n",
       "            \n",
       "            <tr>\n",
       "                <th>Interest Repayments Per Peirod</th>\n",
       "                <th>Interest Only Annual Interest Rate</th>\n",
       "                <th>Forecasted Total Interest Only</th>\n",
       "                <th>Total Interest Only / Total Interest</th>\n",
       "            </tr>\n",
       "            <tr>\n",
       "                <td>$410.02</td>\n",
       "                <td>4.14%</td>              \n",
       "                <td>$42,642.00</td>\n",
       "                <td>11.28%</td>\n",
       "            </tr>\n",
       "        \n",
       "        </table>\n",
       "        "
      ],
      "text/plain": [
       "\n",
       "        --------------------------------------------------------------------\n",
       "        Amortization Schedule\n",
       "        --------------------------------------------------------------------\n",
       "        Principal Borrowed:                     $515,000.00\n",
       "        Years:                                  30\n",
       "        Annual Interest Rate:                   3.94%\n",
       "        Forecasted Total Interest:              $378,094.51\n",
       "        Repayment Frequency:                    Weekly - 1,560 Periods \n",
       "        Minimum Repayments Per Peirod:          $584.10\n",
       "        Effective Annual Interest Rate (EAR)    4.02%         \n",
       "        Total Interest / Total Principal:       73.42%\n",
       "        ----\n",
       "        Interest Only Repayments Per Peirod:    $410.02\n",
       "        Interest Only Annual Interest Rate:     4.14%   \n",
       "        Forecasted Total Interest Only:         $42,642.00\n",
       "        Total Interest Only / Total Interest:   11.28%\n",
       "        \n",
       "        --------------------------------------------------------------------\n",
       "        "
      ]
     },
     "execution_count": 7,
     "metadata": {},
     "output_type": "execute_result"
    }
   ],
   "source": [
    "loan3"
   ]
  }
 ],
 "metadata": {
  "kernelspec": {
   "display_name": "Python 3.9.13 64-bit (windows store)",
   "language": "python",
   "name": "python3"
  },
  "language_info": {
   "codemirror_mode": {
    "name": "ipython",
    "version": 3
   },
   "file_extension": ".py",
   "mimetype": "text/x-python",
   "name": "python",
   "nbconvert_exporter": "python",
   "pygments_lexer": "ipython3",
   "version": "3.9.13"
  },
  "orig_nbformat": 4,
  "vscode": {
   "interpreter": {
    "hash": "349376930e4e27227c017cf1ede658c6181541309628d2352298bcf59e900cd5"
   }
  }
 },
 "nbformat": 4,
 "nbformat_minor": 2
}
